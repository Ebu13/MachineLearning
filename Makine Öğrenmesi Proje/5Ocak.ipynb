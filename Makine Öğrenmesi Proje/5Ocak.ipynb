{
 "cells": [
  {
   "cell_type": "code",
   "execution_count": 9,
   "id": "ced0587d-2d4d-4ab6-83b9-158d57b2c88c",
   "metadata": {},
   "outputs": [
    {
     "name": "stdout",
     "output_type": "stream",
     "text": [
      "Requirement already satisfied: PyPDF2 in c:\\programdata\\anaconda3\\lib\\site-packages (3.0.1)\n",
      "EnKüçükKarelerYöntemiveLineerRegresyon_Bahar2024.pdf dosyası birleştirildi.\n",
      "Hiyerarşik Olmayan Kümeleme.pdf dosyası birleştirildi.\n",
      "Kümeleme_Makina-öğrenmesi-1.pdf dosyası birleştirildi.\n",
      "Kümeleme_Makina-öğrenmesi-2.pdf dosyası birleştirildi.\n",
      "Makine Öğrenmesi İçin Gradyan İniş Yöntemi Bahar 2024.pdf dosyası birleştirildi.\n",
      "MakineÖğrenmesiTemelKavramlarveGüncelGelişmeler III_Bahar2024.pdf dosyası birleştirildi.\n",
      "MakineÖğrenmesiTemelKavramlarveGüncelGelişmelerII_Bahar2024.pdf dosyası birleştirildi.\n",
      "Öğrenme Optimizasyon ve İhtiyaç duyulan Matematiksel Temeller.pdf dosyası birleştirildi.\n",
      "Sınıfta_Uygulama_PatternClasification.pdf dosyası birleştirildi.\n",
      "Uygulama_LineerRegresyonProblemi_GradyanÄ°niÅÃÃ¶zÃ¼mÃ¼_Bahar2024.pdf dosyası birleştirildi.\n",
      "YapayÖğrenmeTemelKavramlarveGüncelGelişmelerIGuz2024.pdf dosyası birleştirildi.\n",
      "Öğrenme, Optimizasyon ve İhtiyaç Duyulan Temel Matematiksel Temeller II Bahar2024.pdf dosyası birleştirildi.\n",
      "Tüm PDF dosyaları C:\\Users\\Ebubekir13\\Desktop\\Birlesik_Dosya.pdf olarak kaydedildi.\n"
     ]
    }
   ],
   "source": [
    "!pip install PyPDF2\n",
    "\n",
    "import os\n",
    "from PyPDF2 import PdfMerger\n",
    "\n",
    "def merge_pdfs_in_folder(input_folder, output_folder, output_file):\n",
    "    # Klasördeki tüm PDF dosyalarını bul\n",
    "    pdf_files = [f for f in os.listdir(input_folder) if f.endswith('.pdf')]\n",
    "\n",
    "    # PDF dosyalarını alfabetik sıraya göre sıralayın\n",
    "    pdf_files.sort()\n",
    "\n",
    "    # PDF birleştirici oluştur\n",
    "    merger = PdfMerger()\n",
    "\n",
    "    # PDF dosyalarını birleştir\n",
    "    for pdf in pdf_files:\n",
    "        pdf_path = os.path.join(input_folder, pdf)\n",
    "        merger.append(pdf_path)\n",
    "        print(f\"{pdf} dosyası birleştirildi.\")\n",
    "\n",
    "    # Çıkış dosyasını kaydet\n",
    "    output_path = os.path.join(output_folder, output_file)\n",
    "    merger.write(output_path)\n",
    "    merger.close()\n",
    "    print(f\"Tüm PDF dosyaları {output_path} olarak kaydedildi.\")\n",
    "\n",
    "# Kullanım\n",
    "input_folder = r\"C:\\Users\\Ebubekir13\\Desktop\\Ders\\Makine Öğrenmesi\\Docs\"\n",
    "output_folder = r\"C:\\Users\\Ebubekir13\\Desktop\"\n",
    "output_file = \"Birlesik_Dosya.pdf\"\n",
    "\n",
    "merge_pdfs_in_folder(input_folder, output_folder, output_file)\n"
   ]
  },
  {
   "cell_type": "code",
   "execution_count": null,
   "id": "1192e646-87ad-4259-b7a4-27569999aa26",
   "metadata": {},
   "outputs": [],
   "source": []
  }
 ],
 "metadata": {
  "kernelspec": {
   "display_name": "Python 3 (ipykernel)",
   "language": "python",
   "name": "python3"
  },
  "language_info": {
   "codemirror_mode": {
    "name": "ipython",
    "version": 3
   },
   "file_extension": ".py",
   "mimetype": "text/x-python",
   "name": "python",
   "nbconvert_exporter": "python",
   "pygments_lexer": "ipython3",
   "version": "3.12.4"
  }
 },
 "nbformat": 4,
 "nbformat_minor": 5
}
