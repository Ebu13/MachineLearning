{
 "cells": [
  {
   "cell_type": "code",
   "execution_count": 19,
   "id": "ad31d250-f537-4b59-be2f-caa97d697c7a",
   "metadata": {},
   "outputs": [
    {
     "name": "stdout",
     "output_type": "stream",
     "text": [
      "Requirement already satisfied: xgboost in c:\\programdata\\anaconda3\\lib\\site-packages (2.1.3)\n",
      "Requirement already satisfied: numpy in c:\\programdata\\anaconda3\\lib\\site-packages (from xgboost) (1.26.4)\n",
      "Requirement already satisfied: scipy in c:\\programdata\\anaconda3\\lib\\site-packages (from xgboost) (1.13.1)\n"
     ]
    }
   ],
   "source": [
    "import pandas as pd\n",
    "import numpy as np\n",
    "from sklearn.model_selection import train_test_split\n",
    "from sklearn.linear_model import LinearRegression\n",
    "from sklearn.svm import SVR\n",
    "from sklearn.tree import DecisionTreeRegressor\n",
    "from sklearn.ensemble import RandomForestRegressor, GradientBoostingRegressor\n",
    "from sklearn.metrics import mean_squared_error\n"
   ]
  },
  {
   "cell_type": "code",
   "execution_count": 20,
   "id": "5c928d99-88e5-462c-89de-ebbfe648d469",
   "metadata": {},
   "outputs": [
    {
     "name": "stdout",
     "output_type": "stream",
     "text": [
      "Requirement already satisfied: xgboost in c:\\programdata\\anaconda3\\lib\\site-packages (2.1.3)\n",
      "Requirement already satisfied: numpy in c:\\programdata\\anaconda3\\lib\\site-packages (from xgboost) (1.26.4)\n",
      "Requirement already satisfied: scipy in c:\\programdata\\anaconda3\\lib\\site-packages (from xgboost) (1.13.1)\n"
     ]
    }
   ],
   "source": [
    "!pip install xgboost"
   ]
  },
  {
   "cell_type": "code",
   "execution_count": 9,
   "id": "40dac3db-a8b8-43fa-83b0-b51a326ca3bd",
   "metadata": {},
   "outputs": [],
   "source": [
    "import xgboost as xgb"
   ]
  },
  {
   "cell_type": "code",
   "execution_count": 10,
   "id": "5575ff2e-00cf-4f4b-95f6-360866b81309",
   "metadata": {},
   "outputs": [],
   "source": [
    "# Veriyi yükle\n",
    "train_data = pd.read_csv(\"train.csv\")\n",
    "test_data = pd.read_csv(\"test.csv\")\n",
    "\n",
    "# 'SalePrice' hedef değişkeni\n",
    "X = train_data.drop(columns=['SalePrice'])\n",
    "y = train_data['SalePrice']\n",
    "\n",
    "# Kategorik verileri sayısala dönüştür\n",
    "X = pd.get_dummies(X)\n",
    "test_data = pd.get_dummies(test_data)\n",
    "\n",
    "# Eksik verileri doldur\n",
    "X = X.fillna(X.mean())\n",
    "test_data = test_data.fillna(test_data.mean())\n",
    "\n",
    "# Eğitim ve test verilerini ayıralım\n",
    "X_train, X_valid, y_train, y_valid = train_test_split(X, y, test_size=0.2, random_state=42)"
   ]
  },
  {
   "cell_type": "code",
   "execution_count": 11,
   "id": "e4ad97a8-0b8c-48fb-a46e-f9c11ac019ea",
   "metadata": {},
   "outputs": [
    {
     "name": "stdout",
     "output_type": "stream",
     "text": [
      "Doğrusal Regresyon RMSE: 65365.80468055543\n"
     ]
    }
   ],
   "source": [
    "# Doğrusal Regresyon Modeli\n",
    "lr_model = LinearRegression()\n",
    "lr_model.fit(X_train, y_train)\n",
    "\n",
    "# Tahmin yap\n",
    "lr_pred = lr_model.predict(X_valid)\n",
    "\n",
    "# Modelin başarımını değerlendirelim\n",
    "lr_rmse = np.sqrt(mean_squared_error(y_valid, lr_pred))\n",
    "print(f\"Doğrusal Regresyon RMSE: {lr_rmse}\")\n"
   ]
  },
  {
   "cell_type": "code",
   "execution_count": 12,
   "id": "a67734b6-0c9c-4334-8e92-d009894921d3",
   "metadata": {},
   "outputs": [
    {
     "name": "stdout",
     "output_type": "stream",
     "text": [
      "SVM RMSE: 88653.08477373437\n"
     ]
    }
   ],
   "source": [
    "# Destek Vektör Makineleri Modeli\n",
    "svm_model = SVR()\n",
    "svm_model.fit(X_train, y_train)\n",
    "\n",
    "# Tahmin yap\n",
    "svm_pred = svm_model.predict(X_valid)\n",
    "\n",
    "# Modelin başarımını değerlendirelim\n",
    "svm_rmse = np.sqrt(mean_squared_error(y_valid, svm_pred))\n",
    "print(f\"SVM RMSE: {svm_rmse}\")\n"
   ]
  },
  {
   "cell_type": "code",
   "execution_count": 13,
   "id": "14e3d0f0-40ec-403f-89ce-eeea716e62e8",
   "metadata": {},
   "outputs": [
    {
     "name": "stdout",
     "output_type": "stream",
     "text": [
      "Karar Ağacı RMSE: 38769.59980029015\n",
      "Random Forest RMSE: 29173.04646385773\n"
     ]
    }
   ],
   "source": [
    "# Karar Ağacı Modeli\n",
    "dt_model = DecisionTreeRegressor()\n",
    "dt_model.fit(X_train, y_train)\n",
    "\n",
    "# Tahmin yap\n",
    "dt_pred = dt_model.predict(X_valid)\n",
    "\n",
    "# Modelin başarımını değerlendirelim\n",
    "dt_rmse = np.sqrt(mean_squared_error(y_valid, dt_pred))\n",
    "print(f\"Karar Ağacı RMSE: {dt_rmse}\")\n",
    "\n",
    "# Random Forest Modeli\n",
    "rf_model = RandomForestRegressor(n_estimators=100, random_state=42)\n",
    "rf_model.fit(X_train, y_train)\n",
    "\n",
    "# Tahmin yap\n",
    "rf_pred = rf_model.predict(X_valid)\n",
    "\n",
    "# Modelin başarımını değerlendirelim\n",
    "rf_rmse = np.sqrt(mean_squared_error(y_valid, rf_pred))\n",
    "print(f\"Random Forest RMSE: {rf_rmse}\")\n"
   ]
  },
  {
   "cell_type": "code",
   "execution_count": 14,
   "id": "863ba940-bdf7-4856-a1f8-e683fd9a635f",
   "metadata": {},
   "outputs": [
    {
     "name": "stdout",
     "output_type": "stream",
     "text": [
      "Gradient Boosting RMSE: 27566.62544381069\n"
     ]
    }
   ],
   "source": [
    "# Gradient Boosting Modeli\n",
    "gb_model = GradientBoostingRegressor(n_estimators=100, random_state=42)\n",
    "gb_model.fit(X_train, y_train)\n",
    "\n",
    "# Tahmin yap\n",
    "gb_pred = gb_model.predict(X_valid)\n",
    "\n",
    "# Modelin başarımını değerlendirelim\n",
    "gb_rmse = np.sqrt(mean_squared_error(y_valid, gb_pred))\n",
    "print(f\"Gradient Boosting RMSE: {gb_rmse}\")\n"
   ]
  },
  {
   "cell_type": "code",
   "execution_count": 15,
   "id": "ff1b3b3a-a332-4eba-b765-1616104661ef",
   "metadata": {},
   "outputs": [
    {
     "name": "stdout",
     "output_type": "stream",
     "text": [
      "XGBoost RMSE: 26895.350394678786\n"
     ]
    }
   ],
   "source": [
    "# XGBoost Modeli\n",
    "xgb_model = xgb.XGBRegressor(n_estimators=100, random_state=42)\n",
    "xgb_model.fit(X_train, y_train)\n",
    "\n",
    "# Tahmin yap\n",
    "xgb_pred = xgb_model.predict(X_valid)\n",
    "\n",
    "# Modelin başarımını değerlendirelim\n",
    "xgb_rmse = np.sqrt(mean_squared_error(y_valid, xgb_pred))\n",
    "print(f\"XGBoost RMSE: {xgb_rmse}\")\n"
   ]
  },
  {
   "cell_type": "code",
   "execution_count": 22,
   "id": "f61a2d5a-fcef-4502-98a7-26f10f0fb81d",
   "metadata": {},
   "outputs": [
    {
     "name": "stdout",
     "output_type": "stream",
     "text": [
      "Doğrusal Regresyon Modeli:\n",
      "RMSE: 65365.8047\n",
      "MAE: 21166.1052\n",
      "R²: 0.4430\n",
      "--------------------------------------------------\n",
      "SVM Modeli:\n",
      "RMSE: 88653.0848\n",
      "MAE: 59556.7795\n",
      "R²: -0.0246\n",
      "--------------------------------------------------\n",
      "Karar Ağacı Modeli:\n",
      "RMSE: 41895.9133\n",
      "MAE: 27612.2055\n",
      "R²: 0.7712\n",
      "--------------------------------------------------\n",
      "Random Forest Modeli:\n",
      "RMSE: 29173.0465\n",
      "MAE: 17863.2408\n",
      "R²: 0.8890\n",
      "--------------------------------------------------\n",
      "Gradient Boosting Modeli:\n",
      "RMSE: 27566.6254\n",
      "MAE: 17098.0184\n",
      "R²: 0.9009\n",
      "--------------------------------------------------\n",
      "XGBoost Modeli:\n",
      "RMSE: 26895.3504\n",
      "MAE: 17110.7259\n",
      "R²: 0.9057\n",
      "--------------------------------------------------\n"
     ]
    }
   ],
   "source": [
    "import pandas as pd\n",
    "import numpy as np\n",
    "from sklearn.model_selection import train_test_split\n",
    "from sklearn.linear_model import LinearRegression\n",
    "from sklearn.svm import SVR\n",
    "from sklearn.tree import DecisionTreeRegressor\n",
    "from sklearn.ensemble import RandomForestRegressor, GradientBoostingRegressor\n",
    "from sklearn.metrics import mean_squared_error, mean_absolute_error, r2_score\n",
    "import xgboost as xgb\n",
    "\n",
    "# Veriyi yükle\n",
    "train_data = pd.read_csv(\"train.csv\")\n",
    "test_data = pd.read_csv(\"test.csv\")\n",
    "\n",
    "# 'SalePrice' hedef değişkeni\n",
    "X = train_data.drop(columns=['SalePrice'])\n",
    "y = train_data['SalePrice']\n",
    "\n",
    "# Kategorik verileri sayısala dönüştür\n",
    "X = pd.get_dummies(X)\n",
    "test_data = pd.get_dummies(test_data)\n",
    "\n",
    "# Eksik verileri doldur\n",
    "X = X.fillna(X.mean())\n",
    "test_data = test_data.fillna(test_data.mean())\n",
    "\n",
    "# Eğitim ve test verilerini ayıralım\n",
    "X_train, X_valid, y_train, y_valid = train_test_split(X, y, test_size=0.2, random_state=42)\n",
    "\n",
    "# Model listesi\n",
    "models = {\n",
    "    \"Doğrusal Regresyon\": LinearRegression(),\n",
    "    \"SVM\": SVR(),\n",
    "    \"Karar Ağacı\": DecisionTreeRegressor(),\n",
    "    \"Random Forest\": RandomForestRegressor(n_estimators=100, random_state=42),\n",
    "    \"Gradient Boosting\": GradientBoostingRegressor(n_estimators=100, random_state=42),\n",
    "    \"XGBoost\": xgb.XGBRegressor(n_estimators=100, random_state=42)\n",
    "}\n",
    "\n",
    "# Her modelin başarımını değerlendirelim\n",
    "for model_name, model in models.items():\n",
    "    # Modeli eğit\n",
    "    model.fit(X_train, y_train)\n",
    "    \n",
    "    # Tahmin yap\n",
    "    y_pred = model.predict(X_valid)\n",
    "    \n",
    "    # RMSE, MAE ve R² hesapla\n",
    "    rmse = np.sqrt(mean_squared_error(y_valid, y_pred))\n",
    "    mae = mean_absolute_error(y_valid, y_pred)\n",
    "    r2 = r2_score(y_valid, y_pred)\n",
    "    \n",
    "    # Sonuçları yazdır\n",
    "    print(f\"{model_name} Modeli:\")\n",
    "    print(f\"RMSE: {rmse:.4f}\")\n",
    "    print(f\"MAE: {mae:.4f}\")\n",
    "    print(f\"R²: {r2:.4f}\")\n",
    "    print(\"-\" * 50)\n"
   ]
  },
  {
   "cell_type": "code",
   "execution_count": null,
   "id": "7affde2f-92e7-41db-8208-c195493ce6f4",
   "metadata": {},
   "outputs": [],
   "source": []
  }
 ],
 "metadata": {
  "kernelspec": {
   "display_name": "Python 3 (ipykernel)",
   "language": "python",
   "name": "python3"
  },
  "language_info": {
   "codemirror_mode": {
    "name": "ipython",
    "version": 3
   },
   "file_extension": ".py",
   "mimetype": "text/x-python",
   "name": "python",
   "nbconvert_exporter": "python",
   "pygments_lexer": "ipython3",
   "version": "3.12.4"
  }
 },
 "nbformat": 4,
 "nbformat_minor": 5
}
